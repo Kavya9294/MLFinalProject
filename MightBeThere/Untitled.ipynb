{
 "cells": [
  {
   "cell_type": "code",
   "execution_count": 100,
   "metadata": {},
   "outputs": [],
   "source": [
    "import tensorflow as tf"
   ]
  },
  {
   "cell_type": "code",
   "execution_count": 101,
   "metadata": {},
   "outputs": [],
   "source": [
    "import numpy as np\n",
    "import matplotlib\n",
    "import matplotlib.pyplot as plt\n",
    "%matplotlib inline"
   ]
  },
  {
   "cell_type": "code",
   "execution_count": 102,
   "metadata": {},
   "outputs": [],
   "source": [
    "import librosa\n",
    "import librosa.display\n",
    "import librosa.feature"
   ]
  },
  {
   "cell_type": "code",
   "execution_count": 103,
   "metadata": {},
   "outputs": [
    {
     "data": {
      "text/plain": [
       "1418242"
      ]
     },
     "execution_count": 103,
     "metadata": {},
     "output_type": "execute_result"
    }
   ],
   "source": [
    "import requests\n",
    "fn = \"SopSax.Vib.pp.C6Eb6.aiff\"\n",
    "url = \"http://theremin.music.uiowa.edu/sound files/MIS/Woodwinds/sopranosaxophone/\"+fn\n",
    "\n",
    "# TODO:  Load the file from url and save it in a file under the name fn\n",
    "r = requests.get(url)\n",
    "open(fn,'wb').write(r.content)"
   ]
  },
  {
   "cell_type": "code",
   "execution_count": 104,
   "metadata": {},
   "outputs": [],
   "source": [
    "y,sr = librosa.load(fn)"
   ]
  },
  {
   "cell_type": "code",
   "execution_count": 105,
   "metadata": {},
   "outputs": [
    {
     "data": {
      "image/png": "[encoded data removed]",
      "text/plain": [
       "<Figure size 432x288 with 2 Axes>"
      ]
     },
     "metadata": {
      "needs_background": "light"
     },
     "output_type": "display_data"
    }
   ],
   "source": [
    "S = librosa.feature.melspectrogram(y=y, sr=sr, n_mels=128, fmax=8000)\n",
    "librosa.display.specshow(librosa.amplitude_to_db(S),\n",
    "                         y_axis='mel', fmax=8000, x_axis='time')\n",
    "plt.colorbar(format='%+2.0f dB')\n",
    "plt.title('Mel spectrogram')\n",
    "plt.tight_layout()"
   ]
  },
  {
   "cell_type": "code",
   "execution_count": 106,
   "metadata": {},
   "outputs": [],
   "source": [
    "data_dir = 'instrument_dataset/'\n",
    "Xtr = np.load(data_dir+'uiowa_train_data.npy')\n",
    "ytr = np.load(data_dir+'uiowa_train_labels.npy')\n",
    "Xts = np.load(data_dir+'uiowa_test_data.npy')\n",
    "yts = np.load(data_dir+'uiowa_test_labels.npy')"
   ]
  },
  {
   "cell_type": "code",
   "execution_count": 107,
   "metadata": {},
   "outputs": [],
   "source": [
    "#What are the number of training and test samples?\n",
    "trx,tryy = Xtr.shape\n",
    "tsx,tsy = Xts.shape\n",
    "ntr = trx\n",
    "nts = tsx\n",
    "#What is the number of features for each sample?\n",
    "nfx = tryy\n",
    "nfs = tsy\n",
    "#How many classes (i.e. instruments) are there per class?\n",
    "numClass = np.unique(ytr)"
   ]
  },
  {
   "cell_type": "code",
   "execution_count": 108,
   "metadata": {},
   "outputs": [],
   "source": [
    "# TODO Scale the training and test matrices\n",
    "# Xtr_scale = ...\n",
    "# Xts_scale = ...\n",
    "Xtr_mean = np.mean(Xtr, axis=0)\n",
    "Xtr_std = np.std(Xtr, axis=0)\n",
    "Xtr_scale = (Xtr - Xtr_mean[None,:])/(Xtr_std[None,:]**2)\n",
    "Xts_scale = (Xts - Xtr_mean[None,:])/(Xtr_std[None,:]**2)\n",
    "ystd = np.std(ytr)\n",
    "ymean = np.std(ytr)\n",
    "#ytr = (ytr - ymean)/ystd\n",
    "#yts = (yts - ymean)/ystd"
   ]
  },
  {
   "cell_type": "code",
   "execution_count": 109,
   "metadata": {},
   "outputs": [],
   "source": [
    "from tensorflow.keras.models import Model, Sequential\n",
    "from tensorflow.keras.layers import Dense, Activation\n",
    "import tensorflow.keras.backend as K"
   ]
  },
  {
   "cell_type": "code",
   "execution_count": 110,
   "metadata": {},
   "outputs": [],
   "source": [
    "K.clear_session()"
   ]
  },
  {
   "cell_type": "code",
   "execution_count": 111,
   "metadata": {},
   "outputs": [],
   "source": [
    "#nh=256 hidden units\n",
    "#sigmoid activation\n",
    "#select the input and output shapes correctly\n",
    "#print the model summary\n",
    "\n",
    "\n",
    "nh = 256\n",
    "nin = Xtr_scale.shape[1]\n",
    "nout = len(numClass)\n",
    "\n",
    "model = Sequential()\n",
    "model.add(Dense(units=nh, input_shape=(nin,), activation='sigmoid', name='hidden'))\n",
    "model.add(Dense(units=nout, activation='sigmoid', name='output'))"
   ]
  },
  {
   "cell_type": "code",
   "execution_count": null,
   "metadata": {},
   "outputs": [],
   "source": []
  },
  {
   "cell_type": "code",
   "execution_count": 112,
   "metadata": {},
   "outputs": [
    {
     "name": "stdout",
     "output_type": "stream",
     "text": [
      "_________________________________________________________________\n",
      "Layer (type)                 Output Shape              Param #   \n",
      "=================================================================\n",
      "hidden (Dense)               (None, 256)               30976     \n",
      "_________________________________________________________________\n",
      "output (Dense)               (None, 10)                2570      \n",
      "=================================================================\n",
      "Total params: 33,546\n",
      "Trainable params: 33,546\n",
      "Non-trainable params: 0\n",
      "_________________________________________________________________\n"
     ]
    }
   ],
   "source": [
    "model.summary()"
   ]
  },
  {
   "cell_type": "code",
   "execution_count": 113,
   "metadata": {},
   "outputs": [],
   "source": [
    "from tensorflow.keras import optimizers\n",
    "# TODO\n",
    "# opt = ...\n",
    "# model.compile(...)\n",
    "\n",
    "opt = optimizers.Adam(lr=0.001)\n",
    "model.compile(optimizer=opt,\n",
    "              loss='sparse_categorical_crossentropy',\n",
    "              metrics=['accuracy'])"
   ]
  },
  {
   "cell_type": "code",
   "execution_count": 114,
   "metadata": {},
   "outputs": [
    {
     "name": "stdout",
     "output_type": "stream",
     "text": [
      "Train on 66247 samples, validate on 14904 samples\n",
      "Epoch 1/10\n",
      "step=     0 loss=  2.5589e+00\n",
      "66247/66247 [==============================] - 1s 19us/sample - loss: 0.5305 - acc: 0.8207 - val_loss: 0.3825 - val_acc: 0.8832\n",
      "Epoch 2/10\n",
      "65800/66247 [============================>.] - ETA: 0s - loss: 0.3051 - acc: 0.9061step=  1324 loss=  2.8443e-01\n",
      "66247/66247 [==============================] - 1s 14us/sample - loss: 0.3049 - acc: 0.9063 - val_loss: 0.3512 - val_acc: 0.8982\n",
      "Epoch 3/10\n",
      "66247/66247 [==============================] - 1s 13us/sample - loss: 0.2645 - acc: 0.9208 - val_loss: 0.3994 - val_acc: 0.8487\n",
      "Epoch 4/10\n",
      "64500/66247 [============================>.] - ETA: 0s - loss: 0.2271 - acc: 0.9334step=  2648 loss=  2.1866e-01\n",
      "66247/66247 [==============================] - 1s 13us/sample - loss: 0.2264 - acc: 0.9339 - val_loss: 0.2626 - val_acc: 0.9249\n",
      "Epoch 5/10\n",
      "66247/66247 [==============================] - 1s 13us/sample - loss: 0.2034 - acc: 0.9399 - val_loss: 0.2672 - val_acc: 0.9209\n",
      "Epoch 6/10\n",
      "64600/66247 [============================>.] - ETA: 0s - loss: 0.1898 - acc: 0.9433step=  3972 loss=  1.6585e-01\n",
      "66247/66247 [==============================] - 1s 13us/sample - loss: 0.1897 - acc: 0.9433 - val_loss: 0.2861 - val_acc: 0.9161\n",
      "Epoch 7/10\n",
      "66247/66247 [==============================] - 1s 15us/sample - loss: 0.1848 - acc: 0.9436 - val_loss: 0.2440 - val_acc: 0.9249\n",
      "Epoch 8/10\n",
      "64600/66247 [============================>.] - ETA: 0s - loss: 0.1696 - acc: 0.9480step=  5296 loss=  2.4536e-01\n",
      "66247/66247 [==============================] - 1s 17us/sample - loss: 0.1695 - acc: 0.9481 - val_loss: 0.2504 - val_acc: 0.9218\n",
      "Epoch 9/10\n",
      "66247/66247 [==============================] - 1s 15us/sample - loss: 0.1650 - acc: 0.9503 - val_loss: 0.2801 - val_acc: 0.9079\n",
      "Epoch 10/10\n",
      "62300/66247 [===========================>..] - ETA: 0s - loss: 0.1672 - acc: 0.9468step=  6620 loss=  1.4378e-01\n",
      "66247/66247 [==============================] - 1s 15us/sample - loss: 0.1687 - acc: 0.9466 - val_loss: 0.2272 - val_acc: 0.9267\n"
     ]
    }
   ],
   "source": [
    "import tensorflow.keras.callbacks\n",
    "\n",
    "class PeriodicPrintLoss(tensorflow.keras.callbacks.Callback):\n",
    "    def __init__(self, prt_period=100):\n",
    "        self.prt_period = prt_period\n",
    "        \n",
    "    def on_train_begin(self, logs={}):\n",
    "        self.losses = []\n",
    "        self.step = 0\n",
    "\n",
    "    def on_batch_end(self, batch, logs={}):\n",
    "        # Record the loss\n",
    "        loss = logs.get('loss')\n",
    "        self.losses.append(loss)\n",
    "        \n",
    "        # Print the loss periodically\n",
    "        if (self.step % self.prt_period == 0):\n",
    "            print('step=%6d loss=%12.4e' % (self.step, loss))\n",
    "        self.step += 1\n",
    "        \n",
    "# Compute print period in steps \n",
    "batch_size = 100\n",
    "nepoch_per_it = 2\n",
    "prt_period = nepoch_per_it*int(ntr/batch_size)\n",
    "\n",
    "# Create the callback \n",
    "loss_cb = PeriodicPrintLoss(prt_period=prt_period)\n",
    "\n",
    "# Run the fit with the callback\n",
    "hist = model.fit(Xtr_scale, ytr, epochs=10, batch_size=100, validation_data=(Xts_scale,yts),callbacks=[loss_cb])\n"
   ]
  },
  {
   "cell_type": "code",
   "execution_count": 42,
   "metadata": {},
   "outputs": [
    {
     "ename": "KeyError",
     "evalue": "'val_acc'",
     "output_type": "error",
     "traceback": [
      "\u001b[0;31m---------------------------------------------------------------------------\u001b[0m",
      "\u001b[0;31mKeyError\u001b[0m                                  Traceback (most recent call last)",
      "\u001b[0;32m<ipython-input-42-cdf3032f8c08>\u001b[0m in \u001b[0;36m<module>\u001b[0;34m\u001b[0m\n\u001b[0;32m----> 1\u001b[0;31m \u001b[0mval_accuracy\u001b[0m \u001b[0;34m=\u001b[0m \u001b[0mhist\u001b[0m\u001b[0;34m.\u001b[0m\u001b[0mhistory\u001b[0m\u001b[0;34m[\u001b[0m\u001b[0;34m'val_acc'\u001b[0m\u001b[0;34m]\u001b[0m\u001b[0;34m\u001b[0m\u001b[0;34m\u001b[0m\u001b[0m\n\u001b[0m\u001b[1;32m      2\u001b[0m \u001b[0mplt\u001b[0m\u001b[0;34m.\u001b[0m\u001b[0mplot\u001b[0m\u001b[0;34m(\u001b[0m\u001b[0mval_accuracy\u001b[0m\u001b[0;34m)\u001b[0m\u001b[0;34m\u001b[0m\u001b[0;34m\u001b[0m\u001b[0m\n\u001b[1;32m      3\u001b[0m \u001b[0mplt\u001b[0m\u001b[0;34m.\u001b[0m\u001b[0mgrid\u001b[0m\u001b[0;34m(\u001b[0m\u001b[0;34m)\u001b[0m\u001b[0;34m\u001b[0m\u001b[0;34m\u001b[0m\u001b[0m\n\u001b[1;32m      4\u001b[0m \u001b[0mplt\u001b[0m\u001b[0;34m.\u001b[0m\u001b[0mxlabel\u001b[0m\u001b[0;34m(\u001b[0m\u001b[0;34m'epochs'\u001b[0m\u001b[0;34m)\u001b[0m\u001b[0;34m\u001b[0m\u001b[0;34m\u001b[0m\u001b[0m\n\u001b[1;32m      5\u001b[0m \u001b[0mplt\u001b[0m\u001b[0;34m.\u001b[0m\u001b[0mylabel\u001b[0m\u001b[0;34m(\u001b[0m\u001b[0;34m'accuarcy'\u001b[0m\u001b[0;34m)\u001b[0m\u001b[0;34m\u001b[0m\u001b[0;34m\u001b[0m\u001b[0m\n",
      "\u001b[0;31mKeyError\u001b[0m: 'val_acc'"
     ]
    }
   ],
   "source": [
    "val_accuracy = hist.history['val_acc']\n",
    "plt.plot(val_accuracy)\n",
    "plt.grid()\n",
    "plt.xlabel('epochs')\n",
    "plt.ylabel('accuarcy')\n"
   ]
  },
  {
   "cell_type": "code",
   "execution_count": 17,
   "metadata": {},
   "outputs": [
    {
     "data": {
      "text/plain": [
       "Text(0, 0.5, 'semilog(loss)')"
      ]
     },
     "execution_count": 17,
     "metadata": {},
     "output_type": "execute_result"
    },
    {
     "data": {
      "image/png": "[encoded data removed]",
      "text/plain": [
       "<Figure size 432x288 with 1 Axes>"
      ]
     },
     "metadata": {
      "needs_background": "light"
     },
     "output_type": "display_data"
    }
   ],
   "source": [
    "val_loss = hist.history['val_loss']\n",
    "tr_loss = hist.history['loss']\n",
    "plt.semilogy(val_loss)\n",
    "plt.grid()\n",
    "plt.xlabel('epoch')\n",
    "plt.ylabel('semilog(loss)')\n"
   ]
  },
  {
   "cell_type": "code",
   "execution_count": 18,
   "metadata": {},
   "outputs": [
    {
     "name": "stdout",
     "output_type": "stream",
     "text": [
      "Train on 66247 samples, validate on 14904 samples\n",
      "Epoch 1/10\n",
      "step=     0 loss=  3.0984e+01\n",
      "66247/66247 [==============================] - 1s 18us/sample - loss: 24.8698 - acc: 0.0673 - val_loss: 25.3823 - val_acc: 0.0303\n",
      "Epoch 2/10\n",
      "65100/66247 [============================>.] - ETA: 0s - loss: 24.7745 - acc: 0.0738step=  1324 loss=  2.5861e+01\n",
      "66247/66247 [==============================] - 1s 12us/sample - loss: 24.7812 - acc: 0.0741 - val_loss: 25.3778 - val_acc: 0.0248\n",
      "Epoch 3/10\n",
      "66247/66247 [==============================] - 1s 13us/sample - loss: 24.7796 - acc: 0.0917 - val_loss: 25.3836 - val_acc: 0.0207\n",
      "Epoch 4/10\n",
      "61700/66247 [==========================>...] - ETA: 0s - loss: 24.7645 - acc: 0.0964step=  2648 loss=  2.4426e+01\n",
      "66247/66247 [==============================] - 1s 13us/sample - loss: 24.7511 - acc: 0.0969 - val_loss: 25.9353 - val_acc: 0.1206\n",
      "Epoch 5/10\n",
      "66247/66247 [==============================] - 1s 14us/sample - loss: 24.7189 - acc: 0.2721 - val_loss: 26.5983 - val_acc: 0.2917\n",
      "Epoch 6/10\n",
      "62000/66247 [===========================>..] - ETA: 0s - loss: 24.7217 - acc: 0.2809step=  3972 loss=  2.5140e+01\n",
      "66247/66247 [==============================] - 1s 15us/sample - loss: 24.7098 - acc: 0.2854 - val_loss: 27.2878 - val_acc: 0.4293\n",
      "Epoch 7/10\n",
      "66247/66247 [==============================] - 1s 15us/sample - loss: 24.7061 - acc: 0.2762 - val_loss: 29.5662 - val_acc: 0.4099\n",
      "Epoch 8/10\n",
      "64800/66247 [============================>.] - ETA: 0s - loss: 24.7066 - acc: 0.2425step=  5296 loss=  2.5755e+01\n",
      "66247/66247 [==============================] - 1s 16us/sample - loss: 24.7028 - acc: 0.2428 - val_loss: 29.4346 - val_acc: 0.3745\n",
      "Epoch 9/10\n",
      "66247/66247 [==============================] - 1s 15us/sample - loss: 24.7018 - acc: 0.2987 - val_loss: 29.4348 - val_acc: 0.3906\n",
      "Epoch 10/10\n",
      "62100/66247 [===========================>..] - ETA: 0s - loss: 24.7187 - acc: 0.3113step=  6620 loss=  2.4181e+01\n",
      "66247/66247 [==============================] - 1s 16us/sample - loss: 24.7002 - acc: 0.3119 - val_loss: 30.5281 - val_acc: 0.4064\n",
      "Train on 66247 samples, validate on 14904 samples\n",
      "Epoch 1/10\n",
      "step=     0 loss=  3.1128e+01\n",
      "66247/66247 [==============================] - 1s 18us/sample - loss: 24.8714 - acc: 0.0091 - val_loss: 25.3805 - val_acc: 0.0430\n",
      "Epoch 2/10\n",
      "62300/66247 [===========================>..] - ETA: 0s - loss: 24.7888 - acc: 0.0103step=  1324 loss=  2.1150e+01\n",
      "66247/66247 [==============================] - 1s 13us/sample - loss: 24.7809 - acc: 0.0104 - val_loss: 25.3788 - val_acc: 0.0796\n",
      "Epoch 3/10\n",
      "66247/66247 [==============================] - 1s 13us/sample - loss: 24.7744 - acc: 0.0760 - val_loss: 25.5583 - val_acc: 0.4233\n",
      "Epoch 4/10\n",
      "62700/66247 [===========================>..] - ETA: 0s - loss: 24.6930 - acc: 0.1296step=  2648 loss=  2.3361e+01\n",
      "66247/66247 [==============================] - 1s 13us/sample - loss: 24.7327 - acc: 0.1247 - val_loss: 27.1128 - val_acc: 0.3533\n",
      "Epoch 5/10\n",
      "66247/66247 [==============================] - 1s 13us/sample - loss: 24.7140 - acc: 0.0571 - val_loss: 27.5111 - val_acc: 0.4370\n",
      "Epoch 6/10\n",
      "61600/66247 [==========================>...] - ETA: 0s - loss: 24.7268 - acc: 0.0833step=  3972 loss=  2.6836e+01\n",
      "66247/66247 [==============================] - 1s 15us/sample - loss: 24.7076 - acc: 0.0835 - val_loss: 29.1846 - val_acc: 0.2620\n",
      "Epoch 7/10\n",
      "66247/66247 [==============================] - 1s 15us/sample - loss: 24.7038 - acc: 0.1247 - val_loss: 29.2093 - val_acc: 0.5530\n",
      "Epoch 8/10\n",
      "65400/66247 [============================>.] - ETA: 0s - loss: 24.7046 - acc: 0.2383step=  5296 loss=  2.5860e+01\n",
      "66247/66247 [==============================] - 1s 16us/sample - loss: 24.7019 - acc: 0.2397 - val_loss: 28.9638 - val_acc: 0.4449\n",
      "Epoch 9/10\n",
      "66247/66247 [==============================] - 1s 16us/sample - loss: 24.7005 - acc: 0.3869 - val_loss: 28.4061 - val_acc: 0.3693\n",
      "Epoch 10/10\n",
      "64100/66247 [============================>.] - ETA: 0s - loss: 24.7120 - acc: 0.3035step=  6620 loss=  2.3062e+01\n",
      "66247/66247 [==============================] - 1s 16us/sample - loss: 24.7000 - acc: 0.3037 - val_loss: 29.0916 - val_acc: 0.3802\n",
      "Train on 66247 samples, validate on 14904 samples\n",
      "Epoch 1/10\n",
      "step=     0 loss=  3.0241e+01\n",
      "66247/66247 [==============================] - 1s 15us/sample - loss: 24.8664 - acc: 0.0170 - val_loss: 25.4081 - val_acc: 0.0073\n",
      "Epoch 2/10\n",
      "63100/66247 [===========================>..] - ETA: 0s - loss: 24.7806 - acc: 0.0156step=  1324 loss=  2.4977e+01\n",
      "66247/66247 [==============================] - 1s 14us/sample - loss: 24.7790 - acc: 0.0151 - val_loss: 25.5297 - val_acc: 0.0648\n",
      "Epoch 3/10\n",
      "66247/66247 [==============================] - 1s 13us/sample - loss: 24.7468 - acc: 0.0429 - val_loss: 26.6547 - val_acc: 0.0547\n",
      "Epoch 4/10\n",
      "63600/66247 [===========================>..] - ETA: 0s - loss: 24.7041 - acc: 0.0435step=  2648 loss=  2.6871e+01\n",
      "66247/66247 [==============================] - 1s 13us/sample - loss: 24.7191 - acc: 0.0434 - val_loss: 27.3448 - val_acc: 0.0770\n",
      "Epoch 5/10\n",
      "66247/66247 [==============================] - 1s 13us/sample - loss: 24.7102 - acc: 0.0648 - val_loss: 28.5655 - val_acc: 0.1930\n",
      "Epoch 6/10\n",
      "63600/66247 [===========================>..] - ETA: 0s - loss: 24.6889 - acc: 0.0814step=  3972 loss=  2.3340e+01\n",
      "66247/66247 [==============================] - 1s 14us/sample - loss: 24.7065 - acc: 0.0810 - val_loss: 29.8233 - val_acc: 0.2704\n",
      "Epoch 7/10\n",
      "66247/66247 [==============================] - 1s 13us/sample - loss: 24.7035 - acc: 0.0983 - val_loss: 30.3239 - val_acc: 0.4757\n",
      "Epoch 8/10\n",
      "63600/66247 [===========================>..] - ETA: 0s - loss: 24.7057 - acc: 0.1102step=  5296 loss=  2.3074e+01\n",
      "66247/66247 [==============================] - 1s 13us/sample - loss: 24.7016 - acc: 0.1107 - val_loss: 30.5989 - val_acc: 0.3398\n",
      "Epoch 9/10\n",
      "66247/66247 [==============================] - 1s 13us/sample - loss: 24.7000 - acc: 0.2108 - val_loss: 30.4543 - val_acc: 0.3669\n",
      "Epoch 10/10\n",
      "64900/66247 [============================>.] - ETA: 0s - loss: 24.6739 - acc: 0.2689step=  6620 loss=  2.6534e+01\n",
      "66247/66247 [==============================] - 1s 13us/sample - loss: 24.6991 - acc: 0.2693 - val_loss: 30.5392 - val_acc: 0.3910\n"
     ]
    }
   ],
   "source": [
    "rates = [0.01,0.001,0.0001]\n",
    "batch_size = 100\n",
    "loss_hist = []\n",
    "\n",
    "# TODO\n",
    "# for lr in rate:\n",
    "#    ...\n",
    "nh = 256\n",
    "nin = Xtr_scale.shape[1]\n",
    "nout = len(numClass)\n",
    "for lr in rates:\n",
    "    K.clear_session()\n",
    "\n",
    "    model = Sequential()\n",
    "    model.add(Dense(units=nh, input_shape=(nin,), activation='sigmoid', name='hidden'))\n",
    "    model.add(Dense(units=nout, activation='sigmoid', name='output'))\n",
    "    opt = optimizers.Adam(lr=0.001)\n",
    "    model.compile(optimizer=opt,\n",
    "              loss='mean_squared_error',\n",
    "              metrics=['accuracy'])\n",
    "    histTemp = model.fit(Xtr_scale, ytr, epochs=10, batch_size=100, validation_data=(Xts_scale,yts),callbacks=[loss_cb])\n",
    "    loss_hist.append(histTemp.history['val_loss'])"
   ]
  },
  {
   "cell_type": "code",
   "execution_count": 19,
   "metadata": {},
   "outputs": [
    {
     "data": {
      "text/plain": [
       "Text(0, 0.5, 'loss')"
      ]
     },
     "execution_count": 19,
     "metadata": {},
     "output_type": "execute_result"
    },
    {
     "data": {
      "image/png": "[encoded data removed]",
      "text/plain": [
       "<Figure size 432x288 with 1 Axes>"
      ]
     },
     "metadata": {
      "needs_background": "light"
     },
     "output_type": "display_data"
    }
   ],
   "source": [
    "\n",
    "\n",
    "plt.semilogy(loss_hist)\n",
    "plt.grid()\n",
    "plt.xlabel('epochs')\n",
    "plt.ylabel('loss')\n",
    "\n"
   ]
  }
 ],
 "metadata": {
  "kernelspec": {
   "display_name": "Python 3",
   "language": "python",
   "name": "python3"
  },
  "language_info": {
   "codemirror_mode": {
    "name": "ipython",
    "version": 3
   },
   "file_extension": ".py",
   "mimetype": "text/x-python",
   "name": "python",
   "nbconvert_exporter": "python",
   "pygments_lexer": "ipython3",
   "version": "3.6.7"
  }
 },
 "nbformat": 4,
 "nbformat_minor": 2
}
