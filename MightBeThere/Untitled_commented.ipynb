{
 "cells": [
  {
   "cell_type": "code",
   "execution_count": 33,
   "metadata": {},
   "outputs": [],
   "source": [
    "import tensorflow as tf"
   ]
  },
  {
   "cell_type": "code",
   "execution_count": 34,
   "metadata": {},
   "outputs": [],
   "source": [
    "import numpy as np\n",
    "import matplotlib\n",
    "import matplotlib.pyplot as plt\n",
    "%matplotlib inline"
   ]
  },
  {
   "cell_type": "code",
   "execution_count": 35,
   "metadata": {},
   "outputs": [],
   "source": [
    "import librosa\n",
    "import librosa.display\n",
    "import librosa.feature"
   ]
  },
  {
   "cell_type": "code",
   "execution_count": 36,
   "metadata": {},
   "outputs": [
    {
     "data": {
      "text/plain": [
       "1418242"
      ]
     },
     "execution_count": 36,
     "metadata": {},
     "output_type": "execute_result"
    }
   ],
   "source": [
    "import requests\n",
    "fn = \"SopSax.Vib.pp.C6Eb6.aiff\"\n",
    "url = \"http://theremin.music.uiowa.edu/sound files/MIS/Woodwinds/sopranosaxophone/\"+fn\n",
    "\n",
    "# TODO:  Load the file from url and save it in a file under the name fn\n",
    "r = requests.get(url)\n",
    "open(fn,'wb').write(r.content)"
   ]
  },
  {
   "cell_type": "code",
   "execution_count": 37,
   "metadata": {},
   "outputs": [],
   "source": [
    "y,sr = librosa.load(fn)"
   ]
  },
  {
   "cell_type": "code",
   "execution_count": 38,
   "metadata": {},
   "outputs": [
    {
     "data": {
      "image/png": "[encoded data removed]",
      "text/plain": [
       "<Figure size 432x288 with 2 Axes>"
      ]
     },
     "metadata": {
      "needs_background": "light"
     },
     "output_type": "display_data"
    }
   ],
   "source": [
    "S = librosa.feature.melspectrogram(y=y, sr=sr, n_mels=128, fmax=8000)\n",
    "librosa.display.specshow(librosa.amplitude_to_db(S),\n",
    "                         y_axis='mel', fmax=8000, x_axis='time')\n",
    "plt.colorbar(format='%+2.0f dB')\n",
    "plt.title('Mel spectrogram')\n",
    "plt.tight_layout()"
   ]
  },
  {
   "cell_type": "code",
   "execution_count": 39,
   "metadata": {},
   "outputs": [],
   "source": [
    "data_dir = 'instrument_dataset/'\n",
    "Xtr = np.load(data_dir+'uiowa_train_data.npy')\n",
    "ytr = np.load(data_dir+'uiowa_train_labels.npy')\n",
    "Xts = np.load(data_dir+'uiowa_test_data.npy')\n",
    "yts = np.load(data_dir+'uiowa_test_labels.npy')"
   ]
  },
  {
   "cell_type": "code",
   "execution_count": 40,
   "metadata": {},
   "outputs": [],
   "source": [
    "#What are the number of training and test samples?\n",
    "trx,tryy = Xtr.shape\n",
    "tsx,tsy = Xts.shape\n",
    "ntr = trx\n",
    "nts = tsx\n",
    "#What is the number of features for each sample?\n",
    "nfx = tryy\n",
    "nfs = tsy\n",
    "#How many classes (i.e. instruments) are there per class?\n",
    "\n",
    "numClass = np.unique(ytr)"
   ]
  },
  {
   "cell_type": "code",
   "execution_count": 41,
   "metadata": {},
   "outputs": [],
   "source": [
    "# TODO Scale the training and test matrices\n",
    "# Xtr_scale = ...\n",
    "# Xts_scale = ...\n",
    "Xtr_mean = np.mean(Xtr, axis=0)\n",
    "Xtr_std = np.std(Xtr, axis=0)\n",
    "# Xtr_scale = (Xtr - Xtr_mean[None,:])/(Xtr_std[None,:]**2)\n",
    "# Xts_scale = (Xts - Xtr_mean[None,:])/(Xtr_std[None,:]**2)\n",
    "\n",
    "## may not need to square the std\n",
    "Xtr_scale = (Xtr - Xtr_mean[None,:])/(Xtr_std[None,:])\n",
    "Xts_scale = (Xts - Xtr_mean[None,:])/(Xtr_std[None,:])\n",
    "\n",
    "ystd = np.std(ytr)\n",
    "ymean = np.std(ytr)\n",
    "#ytr = (ytr - ymean)/ystd\n",
    "#yts = (yts - ymean)/ystd"
   ]
  },
  {
   "cell_type": "code",
   "execution_count": 42,
   "metadata": {},
   "outputs": [],
   "source": [
    "from tensorflow.keras.models import Model, Sequential\n",
    "from tensorflow.keras.layers import Dense, Activation\n",
    "import tensorflow.keras.backend as K"
   ]
  },
  {
   "cell_type": "code",
   "execution_count": 43,
   "metadata": {},
   "outputs": [],
   "source": [
    "K.clear_session()"
   ]
  },
  {
   "cell_type": "code",
   "execution_count": 44,
   "metadata": {},
   "outputs": [],
   "source": [
    "#nh=256 hidden units\n",
    "#sigmoid activation\n",
    "#select the input and output shapes correctly\n",
    "#print the model summary\n",
    "\n",
    "\n",
    "nh = 256\n",
    "nin = Xtr_scale.shape[1]\n",
    "nout = len(numClass)\n",
    "\n",
    "model = Sequential()\n",
    "model.add(Dense(units=nh, input_shape=(nin,), activation='sigmoid', name='hidden'))\n",
    "model.add(Dense(units=nout, activation='sigmoid', name='output'))"
   ]
  },
  {
   "cell_type": "code",
   "execution_count": null,
   "metadata": {},
   "outputs": [],
   "source": []
  },
  {
   "cell_type": "code",
   "execution_count": 45,
   "metadata": {},
   "outputs": [
    {
     "name": "stdout",
     "output_type": "stream",
     "text": [
      "_________________________________________________________________\n",
      "Layer (type)                 Output Shape              Param #   \n",
      "=================================================================\n",
      "hidden (Dense)               (None, 256)               30976     \n",
      "_________________________________________________________________\n",
      "output (Dense)               (None, 10)                2570      \n",
      "=================================================================\n",
      "Total params: 33,546\n",
      "Trainable params: 33,546\n",
      "Non-trainable params: 0\n",
      "_________________________________________________________________\n"
     ]
    }
   ],
   "source": [
    "model.summary()"
   ]
  },
  {
   "cell_type": "code",
   "execution_count": 46,
   "metadata": {},
   "outputs": [],
   "source": [
    "from tensorflow.keras import optimizers\n",
    "# TODO\n",
    "# opt = ...\n",
    "# model.compile(...)\n",
    "\n",
    "opt = optimizers.Adam(lr=0.001)\n",
    "model.compile(optimizer=opt,\n",
    "              loss='sparse_categorical_crossentropy',\n",
    "              metrics=['accuracy'])"
   ]
  },
  {
   "cell_type": "code",
   "execution_count": 47,
   "metadata": {},
   "outputs": [
    {
     "name": "stdout",
     "output_type": "stream",
     "text": [
      "Train on 66247 samples, validate on 14904 samples\n",
      "Epoch 1/10\n",
      "step=     0 loss=  2.4105e+00\n",
      "66247/66247 [==============================] - 1s 15us/sample - loss: 0.3761 - acc: 0.9007 - val_loss: 0.1880 - val_acc: 0.9362\n",
      "Epoch 2/10\n",
      "63700/66247 [===========================>..] - ETA: 0s - loss: 0.0929 - acc: 0.9779step=  1324 loss=  8.8988e-02\n",
      "66247/66247 [==============================] - 1s 13us/sample - loss: 0.0925 - acc: 0.9780 - val_loss: 0.0937 - val_acc: 0.9718\n",
      "Epoch 3/10\n",
      "66247/66247 [==============================] - 1s 13us/sample - loss: 0.0550 - acc: 0.9867 - val_loss: 0.0560 - val_acc: 0.9866\n",
      "Epoch 4/10\n",
      "63100/66247 [===========================>..] - ETA: 0s - loss: 0.0393 - acc: 0.9901step=  2648 loss=  5.9210e-02\n",
      "66247/66247 [==============================] - 1s 13us/sample - loss: 0.0390 - acc: 0.9902 - val_loss: 0.0457 - val_acc: 0.9886\n",
      "Epoch 5/10\n",
      "66247/66247 [==============================] - 1s 13us/sample - loss: 0.0296 - acc: 0.9924 - val_loss: 0.0394 - val_acc: 0.9883\n",
      "Epoch 6/10\n",
      "61800/66247 [==========================>...] - ETA: 0s - loss: 0.0242 - acc: 0.9937step=  3972 loss=  1.0235e-02\n",
      "66247/66247 [==============================] - 1s 14us/sample - loss: 0.0240 - acc: 0.9937 - val_loss: 0.0350 - val_acc: 0.9902\n",
      "Epoch 7/10\n",
      "66247/66247 [==============================] - 1s 13us/sample - loss: 0.0194 - acc: 0.9951 - val_loss: 0.0296 - val_acc: 0.9918\n",
      "Epoch 8/10\n",
      "61900/66247 [===========================>..] - ETA: 0s - loss: 0.0169 - acc: 0.9955step=  5296 loss=  1.4485e-02\n",
      "66247/66247 [==============================] - 1s 14us/sample - loss: 0.0168 - acc: 0.9956 - val_loss: 0.0260 - val_acc: 0.9920\n",
      "Epoch 9/10\n",
      "66247/66247 [==============================] - 1s 12us/sample - loss: 0.0146 - acc: 0.9960 - val_loss: 0.0286 - val_acc: 0.9905\n",
      "Epoch 10/10\n",
      "64800/66247 [============================>.] - ETA: 0s - loss: 0.0125 - acc: 0.9968step=  6620 loss=  1.5564e-02\n",
      "66247/66247 [==============================] - 1s 14us/sample - loss: 0.0125 - acc: 0.9968 - val_loss: 0.0241 - val_acc: 0.9924\n"
     ]
    }
   ],
   "source": [
    "import tensorflow.keras.callbacks\n",
    "\n",
    "class PeriodicPrintLoss(tensorflow.keras.callbacks.Callback):\n",
    "    def __init__(self, prt_period=100):\n",
    "        self.prt_period = prt_period\n",
    "        \n",
    "    def on_train_begin(self, logs={}):\n",
    "        self.losses = []\n",
    "        self.step = 0\n",
    "\n",
    "    def on_batch_end(self, batch, logs={}):\n",
    "        # Record the loss\n",
    "        loss = logs.get('loss')\n",
    "        self.losses.append(loss)\n",
    "        \n",
    "        # Print the loss periodically\n",
    "        if (self.step % self.prt_period == 0):\n",
    "            print('step=%6d loss=%12.4e' % (self.step, loss))\n",
    "        self.step += 1\n",
    "        \n",
    "# Compute print period in steps \n",
    "batch_size = 100\n",
    "nepoch_per_it = 2\n",
    "prt_period = nepoch_per_it*int(ntr/batch_size)\n",
    "\n",
    "# Create the callback \n",
    "loss_cb = PeriodicPrintLoss(prt_period=prt_period)\n",
    "\n",
    "# Run the fit with the callback\n",
    "hist = model.fit(Xtr_scale, ytr, epochs=10, batch_size=100, validation_data=(Xts_scale,yts),callbacks=[loss_cb])\n"
   ]
  },
  {
   "cell_type": "code",
   "execution_count": 48,
   "metadata": {},
   "outputs": [
    {
     "data": {
      "text/plain": [
       "Text(0, 0.5, 'accuarcy')"
      ]
     },
     "execution_count": 48,
     "metadata": {},
     "output_type": "execute_result"
    },
    {
     "data": {
      "image/png": "[encoded data removed]",
      "text/plain": [
       "<Figure size 432x288 with 1 Axes>"
      ]
     },
     "metadata": {
      "needs_background": "light"
     },
     "output_type": "display_data"
    }
   ],
   "source": [
    "val_accuracy = hist.history['val_acc']\n",
    "plt.plot(val_accuracy)\n",
    "plt.grid()\n",
    "plt.xlabel('epochs')\n",
    "plt.ylabel('accuarcy')\n"
   ]
  },
  {
   "cell_type": "code",
   "execution_count": 52,
   "metadata": {},
   "outputs": [
    {
     "data": {
      "text/plain": [
       "Text(0, 0.5, 'semilog(loss)')"
      ]
     },
     "execution_count": 52,
     "metadata": {},
     "output_type": "execute_result"
    },
    {
     "data": {
      "image/png": "[encoded data removed]",
      "text/plain": [
       "<Figure size 432x288 with 1 Axes>"
      ]
     },
     "metadata": {
      "needs_background": "light"
     },
     "output_type": "display_data"
    }
   ],
   "source": [
    "val_loss = hist.history['val_loss']\n",
    "plt.semilogy(val_loss)\n",
    "plt.grid()\n",
    "plt.xlabel('epoch')\n",
    "plt.ylabel('semilog(loss)')\n"
   ]
  },
  {
   "cell_type": "code",
   "execution_count": 50,
   "metadata": {},
   "outputs": [
    {
     "name": "stdout",
     "output_type": "stream",
     "text": [
      "Train on 66247 samples, validate on 14904 samples\n",
      "Epoch 1/10\n",
      "step=     0 loss=  2.4105e+00\n",
      "66247/66247 [==============================] - 1s 15us/sample - loss: 0.3754 - acc: 0.9024 - val_loss: 0.1657 - val_acc: 0.9612\n",
      "Epoch 2/10\n",
      "66100/66247 [============================>.] - ETA: 0s - loss: 0.0944 - acc: 0.9777step=  1324 loss=  1.2968e-01\n",
      "66247/66247 [==============================] - 1s 13us/sample - loss: 0.0945 - acc: 0.9777 - val_loss: 0.0810 - val_acc: 0.9826\n",
      "Epoch 3/10\n",
      "66247/66247 [==============================] - 1s 13us/sample - loss: 0.0565 - acc: 0.9866 - val_loss: 0.0626 - val_acc: 0.9822\n",
      "Epoch 4/10\n",
      "65000/66247 [============================>.] - ETA: 0s - loss: 0.0402 - acc: 0.9901step=  2648 loss=  4.5808e-02\n",
      "66247/66247 [==============================] - 1s 13us/sample - loss: 0.0400 - acc: 0.9902 - val_loss: 0.0510 - val_acc: 0.9855\n",
      "Epoch 5/10\n",
      "66247/66247 [==============================] - 1s 13us/sample - loss: 0.0303 - acc: 0.9924 - val_loss: 0.0400 - val_acc: 0.9900\n",
      "Epoch 6/10\n",
      "64900/66247 [============================>.] - ETA: 0s - loss: 0.0243 - acc: 0.9940step=  3972 loss=  1.0174e-02\n",
      "66247/66247 [==============================] - 1s 13us/sample - loss: 0.0243 - acc: 0.9940 - val_loss: 0.0408 - val_acc: 0.9881\n",
      "Epoch 7/10\n",
      "66247/66247 [==============================] - 1s 13us/sample - loss: 0.0201 - acc: 0.9946 - val_loss: 0.0278 - val_acc: 0.9920\n",
      "Epoch 8/10\n",
      "64800/66247 [============================>.] - ETA: 0s - loss: 0.0166 - acc: 0.9957step=  5296 loss=  2.8245e-02\n",
      "66247/66247 [==============================] - 1s 13us/sample - loss: 0.0165 - acc: 0.9957 - val_loss: 0.0271 - val_acc: 0.9922\n",
      "Epoch 9/10\n",
      "66247/66247 [==============================] - 1s 13us/sample - loss: 0.0143 - acc: 0.9962 - val_loss: 0.0252 - val_acc: 0.9919\n",
      "Epoch 10/10\n",
      "65200/66247 [============================>.] - ETA: 0s - loss: 0.0125 - acc: 0.9968step=  6620 loss=  3.2079e-02\n",
      "66247/66247 [==============================] - 1s 13us/sample - loss: 0.0125 - acc: 0.9968 - val_loss: 0.0272 - val_acc: 0.9921\n",
      "Train on 66247 samples, validate on 14904 samples\n",
      "Epoch 1/10\n",
      "step=     0 loss=  2.3300e+00\n",
      "66247/66247 [==============================] - 1s 15us/sample - loss: 0.3782 - acc: 0.9004 - val_loss: 0.1690 - val_acc: 0.9561\n",
      "Epoch 2/10\n",
      "65500/66247 [============================>.] - ETA: 0s - loss: 0.0954 - acc: 0.9772step=  1324 loss=  4.7201e-02\n",
      "66247/66247 [==============================] - 1s 13us/sample - loss: 0.0950 - acc: 0.9774 - val_loss: 0.0833 - val_acc: 0.9815\n",
      "Epoch 3/10\n",
      "66247/66247 [==============================] - 1s 13us/sample - loss: 0.0569 - acc: 0.9864 - val_loss: 0.0605 - val_acc: 0.9836\n",
      "Epoch 4/10\n",
      "65400/66247 [============================>.] - ETA: 0s - loss: 0.0404 - acc: 0.9898step=  2648 loss=  2.9117e-02\n",
      "66247/66247 [==============================] - 1s 13us/sample - loss: 0.0403 - acc: 0.9899 - val_loss: 0.0430 - val_acc: 0.9892\n",
      "Epoch 5/10\n",
      "66247/66247 [==============================] - 1s 13us/sample - loss: 0.0309 - acc: 0.9921 - val_loss: 0.0383 - val_acc: 0.9903\n",
      "Epoch 6/10\n",
      "65300/66247 [============================>.] - ETA: 0s - loss: 0.0245 - acc: 0.9937step=  3972 loss=  3.6710e-02\n",
      "66247/66247 [==============================] - 1s 13us/sample - loss: 0.0246 - acc: 0.9937 - val_loss: 0.0433 - val_acc: 0.9876\n",
      "Epoch 7/10\n",
      "66247/66247 [==============================] - 1s 13us/sample - loss: 0.0201 - acc: 0.9947 - val_loss: 0.0344 - val_acc: 0.9913\n",
      "Epoch 8/10\n",
      "65400/66247 [============================>.] - ETA: 0s - loss: 0.0168 - acc: 0.9959step=  5296 loss=  1.2403e-02\n",
      "66247/66247 [==============================] - 1s 13us/sample - loss: 0.0167 - acc: 0.9959 - val_loss: 0.0295 - val_acc: 0.9909\n",
      "Epoch 9/10\n",
      "66247/66247 [==============================] - 1s 13us/sample - loss: 0.0148 - acc: 0.9960 - val_loss: 0.0338 - val_acc: 0.9881\n",
      "Epoch 10/10\n",
      "61300/66247 [==========================>...] - ETA: 0s - loss: 0.0130 - acc: 0.9965step=  6620 loss=  6.7564e-03\n",
      "66247/66247 [==============================] - 1s 13us/sample - loss: 0.0129 - acc: 0.9965 - val_loss: 0.0235 - val_acc: 0.9922\n",
      "Train on 66247 samples, validate on 14904 samples\n",
      "Epoch 1/10\n",
      "step=     0 loss=  2.3281e+00\n",
      "66247/66247 [==============================] - 1s 15us/sample - loss: 0.3686 - acc: 0.9035 - val_loss: 0.1623 - val_acc: 0.9589\n",
      "Epoch 2/10\n",
      "64600/66247 [============================>.] - ETA: 0s - loss: 0.0939 - acc: 0.9775step=  1324 loss=  5.5719e-02\n",
      "66247/66247 [==============================] - 1s 13us/sample - loss: 0.0936 - acc: 0.9777 - val_loss: 0.0806 - val_acc: 0.9833\n",
      "Epoch 3/10\n",
      "66247/66247 [==============================] - 1s 13us/sample - loss: 0.0560 - acc: 0.9866 - val_loss: 0.0604 - val_acc: 0.9837\n",
      "Epoch 4/10\n",
      "65500/66247 [============================>.] - ETA: 0s - loss: 0.0397 - acc: 0.9902step=  2648 loss=  4.6388e-02\n",
      "66247/66247 [==============================] - 1s 13us/sample - loss: 0.0396 - acc: 0.9902 - val_loss: 0.0462 - val_acc: 0.9871\n",
      "Epoch 5/10\n",
      "66247/66247 [==============================] - 1s 13us/sample - loss: 0.0303 - acc: 0.9924 - val_loss: 0.0359 - val_acc: 0.9909\n",
      "Epoch 6/10\n",
      "65500/66247 [============================>.] - ETA: 0s - loss: 0.0240 - acc: 0.9940step=  3972 loss=  2.1737e-02\n",
      "66247/66247 [==============================] - 1s 13us/sample - loss: 0.0239 - acc: 0.9941 - val_loss: 0.0325 - val_acc: 0.9915\n",
      "Epoch 7/10\n",
      "66247/66247 [==============================] - 1s 13us/sample - loss: 0.0197 - acc: 0.9950 - val_loss: 0.0294 - val_acc: 0.9921\n",
      "Epoch 8/10\n",
      "64900/66247 [============================>.] - ETA: 0s - loss: 0.0168 - acc: 0.9954step=  5296 loss=  3.2162e-03\n",
      "66247/66247 [==============================] - 1s 13us/sample - loss: 0.0167 - acc: 0.9955 - val_loss: 0.0317 - val_acc: 0.9900\n",
      "Epoch 9/10\n",
      "66247/66247 [==============================] - 1s 13us/sample - loss: 0.0143 - acc: 0.9963 - val_loss: 0.0239 - val_acc: 0.9925\n",
      "Epoch 10/10\n",
      "61300/66247 [==========================>...] - ETA: 0s - loss: 0.0123 - acc: 0.9971step=  6620 loss=  3.1002e-03\n",
      "66247/66247 [==============================] - 1s 13us/sample - loss: 0.0124 - acc: 0.9971 - val_loss: 0.0239 - val_acc: 0.9925\n"
     ]
    }
   ],
   "source": [
    "rates = [0.01,0.001,0.0001]\n",
    "batch_size = 100\n",
    "loss_hist = []\n",
    "## an empty list to save val_accuracy for each lr\n",
    "\n",
    "# TODO\n",
    "# for lr in rate:\n",
    "#    ...\n",
    "nh = 256\n",
    "nin = Xtr_scale.shape[1]\n",
    "nout = len(numClass)\n",
    "for lr in rates:\n",
    "    K.clear_session()\n",
    "\n",
    "    model = Sequential()\n",
    "    model.add(Dense(units=nh, input_shape=(nin,), activation='sigmoid', name='hidden'))\n",
    "    model.add(Dense(units=nout, activation='sigmoid', name='output'))\n",
    "    opt = optimizers.Adam(lr=0.001)\n",
    "    \n",
    "    ## opt = optimizers.Adam(lr=lr)\n",
    "    model.compile(optimizer=opt,\n",
    "              loss='sparse_categorical_crossentropy',\n",
    "              metrics=['accuracy'])\n",
    "    histTemp = model.fit(Xtr_scale, ytr, epochs=10, batch_size=100, validation_data=(Xts_scale,yts),callbacks=[loss_cb])\n",
    "    loss_hist.append(histTemp.history['val_loss'])"
   ]
  },
  {
   "cell_type": "code",
   "execution_count": 71,
   "metadata": {},
   "outputs": [
    {
     "data": {
      "text/plain": [
       "<matplotlib.legend.Legend at 0x137022710>"
      ]
     },
     "execution_count": 71,
     "metadata": {},
     "output_type": "execute_result"
    },
    {
     "data": {
      "image/png": "[encoded data removed]",
      "text/plain": [
       "<Figure size 432x288 with 1 Axes>"
      ]
     },
     "metadata": {
      "needs_background": "light"
     },
     "output_type": "display_data"
    }
   ],
   "source": [
    "plt.semilogy(np.transpose(loss_hist))\n",
    "plt.grid()\n",
    "plt.xlabel('epochs')\n",
    "plt.ylabel('loss')\n",
    "plt.legend(['lr=0.01', 'lr=0.001', 'lr=0.0001'])\n",
    "## legend to differentiate lr"
   ]
  }
 ],
 "metadata": {
  "kernelspec": {
   "display_name": "Python 3",
   "language": "python",
   "name": "python3"
  },
  "language_info": {
   "codemirror_mode": {
    "name": "ipython",
    "version": 3
   },
   "file_extension": ".py",
   "mimetype": "text/x-python",
   "name": "python",
   "nbconvert_exporter": "python",
   "pygments_lexer": "ipython3",
   "version": "3.6.7"
  }
 },
 "nbformat": 4,
 "nbformat_minor": 2
}
